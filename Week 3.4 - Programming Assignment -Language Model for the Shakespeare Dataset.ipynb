{
  "nbformat": 4,
  "nbformat_minor": 0,
  "metadata": {
    "coursera": {
      "course_slug": "tensor-flow-2-2",
      "graded_item_id": "4eYSM",
      "launcher_item_id": "HEV6h"
    },
    "kernelspec": {
      "display_name": "Python 3",
      "language": "python",
      "name": "python3"
    },
    "language_info": {
      "codemirror_mode": {
        "name": "ipython",
        "version": 3
      },
      "file_extension": ".py",
      "mimetype": "text/x-python",
      "name": "python",
      "nbconvert_exporter": "python",
      "pygments_lexer": "ipython3",
      "version": "3.7.1"
    },
    "colab": {
      "name": "Week 3 - Programming Assignment - Language Model for the Shakespeare Dataset.ipynb",
      "provenance": [],
      "collapsed_sections": [
        "gWObVg6DRfSi",
        "iRCN70xkRfSt",
        "U-4W2iICRfS3",
        "YFTEK7hnRfTJ",
        "Rm8gNoNJRfTT",
        "FQ_mAEoPRfTX",
        "IKfaWcCCRfTf",
        "4PJ4cU0YRfTo",
        "upDpsmf9RfT2",
        "2msBeLSoRfT7",
        "7A0FOxOTRfUc"
      ]
    },
    "accelerator": "GPU"
  },
  "cells": [
    {
      "cell_type": "markdown",
      "metadata": {
        "id": "wJQu9UWtRfRx"
      },
      "source": [
        "# Programming Assignment"
      ]
    },
    {
      "cell_type": "markdown",
      "metadata": {
        "id": "pFRRArflRfR1"
      },
      "source": [
        "## Language model for the Shakespeare dataset"
      ]
    },
    {
      "cell_type": "markdown",
      "metadata": {
        "id": "iPU9O33bRfR3"
      },
      "source": [
        "### Instructions\n",
        "\n",
        "In this notebook, you will use the text preprocessing tools and RNN models to build a character-level language model. You will then train your model on the works of Shakespeare, and use the network to generate your own text.\n",
        "\n",
        "Some code cells are provided you in the notebook. You should avoid editing provided code, and make sure to execute the cells in order to avoid unexpected errors. Some cells begin with the line: \n",
        "\n",
        "`#### GRADED CELL ####`\n",
        "\n",
        "Don't move or edit this first line - this is what the automatic grader looks for to recognise graded cells. These cells require you to write your own code to complete them, and are automatically graded when you submit the notebook. Don't edit the function name or signature provided in these cells, otherwise the automatic grader might not function properly. Inside these graded cells, you can use any functions or classes that are imported below, but make sure you don't use any variables that are outside the scope of the function.\n",
        "\n",
        "### How to submit\n",
        "\n",
        "Complete all the tasks you are asked for in the worksheet. When you have finished and are happy with your code, press the **Submit Assignment** button at the top of this notebook.\n",
        "\n",
        "### Let's get started!\n",
        "\n",
        "We'll start running some imports, and loading the dataset. Do not edit the existing imports in the following cell. If you would like to make further Tensorflow imports, you should add them here."
      ]
    },
    {
      "cell_type": "code",
      "metadata": {
        "id": "2j_QtDXtRfR4"
      },
      "source": [
        "#### PACKAGE IMPORTS ####\n",
        "\n",
        "# Run this cell first to import all required packages. Do not make any imports elsewhere in the notebook\n",
        "\n",
        "import tensorflow as tf\n",
        "import numpy as np\n",
        "import json\n",
        "import matplotlib.pyplot as plt\n",
        "%matplotlib inline\n",
        "\n",
        "# If you would like to make further imports from tensorflow, add them here\n",
        "from tensorflow.keras.preprocessing.text import Tokenizer\n",
        "from tensorflow.keras.preprocessing.sequence import pad_sequences\n",
        "from tensorflow.keras.models import Sequential\n",
        "from tensorflow.keras.layers import Embedding, Dense, LSTM, GRU"
      ],
      "execution_count": null,
      "outputs": []
    },
    {
      "cell_type": "markdown",
      "metadata": {
        "id": "r3wpZrx7RfR-"
      },
      "source": [
        "#### The Shakespeare dataset\n",
        "\n",
        "In this assignment, you will use a subset of the [Shakespeare dataset](http://shakespeare.mit.edu). It consists of a single text file with several excerpts concatenated together. The data is in raw text form, and so far has not yet had any preprocessing. \n",
        "\n",
        "Your goal is to construct an unsupervised character-level sequence model that can generate text according to a distribution learned from the dataset."
      ]
    },
    {
      "cell_type": "markdown",
      "metadata": {
        "id": "2XZu3DSPRkE4"
      },
      "source": [
        "#### Import the data\n",
        "\n",
        "The dataset required for this project can be downloaded from the following link:\n",
        "\n",
        "https://drive.google.com/open?id=1pQI1ryDnuMKl5FtgBI9k9vXQ65S8xLv2\n",
        "\n",
        "You should store this file in Drive for use in this Colab notebook."
      ]
    },
    {
      "cell_type": "code",
      "metadata": {
        "id": "3fRagWNBR0-E",
        "outputId": "24fd5294-e14b-4c95-e47d-85c4878c4070",
        "colab": {
          "base_uri": "https://localhost:8080/",
          "height": 34
        }
      },
      "source": [
        "# Run this cell to connect to your Drive folder\n",
        "\n",
        "from google.colab import drive\n",
        "drive.mount('/content/gdrive')"
      ],
      "execution_count": null,
      "outputs": [
        {
          "output_type": "stream",
          "text": [
            "Mounted at /content/gdrive\n"
          ],
          "name": "stdout"
        }
      ]
    },
    {
      "cell_type": "markdown",
      "metadata": {
        "id": "ppOL7TDHRfSA"
      },
      "source": [
        "#### Load and inspect the dataset"
      ]
    },
    {
      "cell_type": "code",
      "metadata": {
        "id": "XXwzWcB-RfSD"
      },
      "source": [
        "# Load the text file into a string\n",
        "\n",
        "with open('/content/gdrive/My Drive/Shakespeare.txt', 'r', encoding='utf-8') as file:\n",
        "    text = file.read()"
      ],
      "execution_count": null,
      "outputs": []
    },
    {
      "cell_type": "code",
      "metadata": {
        "id": "YzHw4wbCRfSH"
      },
      "source": [
        "# Create a list of chunks of text\n",
        "\n",
        "text_chunks = text.split('.')"
      ],
      "execution_count": null,
      "outputs": []
    },
    {
      "cell_type": "markdown",
      "metadata": {
        "id": "pik73Zq2RfSO"
      },
      "source": [
        "To give you a feel for what the text looks like, we will print a few chunks from the list."
      ]
    },
    {
      "cell_type": "code",
      "metadata": {
        "id": "CMZj2MIYRfSP",
        "outputId": "04a24c5a-56f9-410a-84ba-c56fe883ce44",
        "colab": {
          "base_uri": "https://localhost:8080/",
          "height": 289
        }
      },
      "source": [
        "# Display some randomly selected text samples\n",
        "\n",
        "num_samples = 5\n",
        "inx = np.random.choice(len(text_chunks), num_samples, replace=False)\n",
        "for chunk in np.array(text_chunks)[inx]:\n",
        "    print(chunk)"
      ],
      "execution_count": null,
      "outputs": [
        {
          "output_type": "stream",
          "text": [
            "\n",
            "Be patient; to-morrow 't shall be mended,\n",
            "And, for this night, we'll fast for company:\n",
            "Come, I will bring thee to thy bridal chamber\n",
            "\n",
            "Ready to fight; therefore be resolute\n",
            " Farewell, my friend\n",
            " I wish\n",
            "you much mirth\n",
            "\n",
            "I have served Prince Florizel and in my time\n",
            "wore three-pile; but now I am out of service:\n",
            "But shall I go mourn for that, my dear?\n",
            "The pale moon shines by night:\n",
            "And when I wander here and there,\n",
            "I then do most go right\n"
          ],
          "name": "stdout"
        }
      ]
    },
    {
      "cell_type": "code",
      "metadata": {
        "id": "jIF-fRR9B0SA",
        "outputId": "2eb4fa4f-821d-4c82-85dd-53dab8518a24",
        "colab": {
          "base_uri": "https://localhost:8080/",
          "height": 34
        }
      },
      "source": [
        "len(text_chunks)"
      ],
      "execution_count": null,
      "outputs": [
        {
          "output_type": "execute_result",
          "data": {
            "text/plain": [
              "7886"
            ]
          },
          "metadata": {
            "tags": []
          },
          "execution_count": 7
        }
      ]
    },
    {
      "cell_type": "markdown",
      "metadata": {
        "id": "QSxfAsFARfSX"
      },
      "source": [
        "#### Create a character-level tokenizer"
      ]
    },
    {
      "cell_type": "markdown",
      "metadata": {
        "id": "SBukx3SDRfSY"
      },
      "source": [
        "You should now write a function that returns a `Tokenizer` object. The function takes a list of strings as an argument, and should create a `Tokenizer` according to the following specification:\n",
        "\n",
        "* The number of tokens should be unlimited (there should be as many as required by the dataset).\n",
        "* Tokens should be created at the character level (not at the word level, which is the default behaviour).\n",
        "* No characters should be filtered out or ignored.\n",
        "* The original capitalization should be retained (do not convert the text to lower case)\n",
        "\n",
        "The `Tokenizer` should be fit to the `list_of_strings` argument and returned by the function. \n",
        "\n",
        "**Hint:** you may need to refer to the [documentation](https://www.tensorflow.org/api_docs/python/tf/keras/preprocessing/text/Tokenizer) for the `Tokenizer`."
      ]
    },
    {
      "cell_type": "code",
      "metadata": {
        "id": "Q8s2aR4oRfSb"
      },
      "source": [
        "#### GRADED CELL ####\n",
        "\n",
        "# Complete the following function.\n",
        "# Make sure not to change the function name or arguments.\n",
        "\n",
        "def create_character_tokenizer(list_of_strings):\n",
        "    \"\"\"\n",
        "    This function takes a list of strings as its argument. It should create \n",
        "    and return a Tokenizer according to the above specifications. \n",
        "    \"\"\"\n",
        "    tokenizer = Tokenizer(char_level = True, lower = False, filters = '')\n",
        "    tokenizer.fit_on_texts(list_of_strings)\n",
        "\n",
        "    return tokenizer\n",
        "    "
      ],
      "execution_count": null,
      "outputs": []
    },
    {
      "cell_type": "code",
      "metadata": {
        "id": "aKZpIcn_RfSf"
      },
      "source": [
        "# Get the tokenizer\n",
        "\n",
        "tokenizer = create_character_tokenizer(text_chunks)"
      ],
      "execution_count": null,
      "outputs": []
    },
    {
      "cell_type": "code",
      "metadata": {
        "id": "yEscG16MCQOP",
        "outputId": "70c60cdf-f339-4475-f476-7263f2521368",
        "colab": {
          "base_uri": "https://localhost:8080/",
          "height": 241
        }
      },
      "source": [
        "tokenizer.get_config()"
      ],
      "execution_count": null,
      "outputs": [
        {
          "output_type": "execute_result",
          "data": {
            "text/plain": [
              "{'char_level': True,\n",
              " 'document_count': 7886,\n",
              " 'filters': '',\n",
              " 'index_docs': '{\"14\": 6580, \"13\": 6649, \"18\": 5818, \"20\": 5436, \"43\": 2146, \"28\": 3881, \"15\": 6454, \"3\": 7503, \"19\": 5319, \"17\": 6338, \"10\": 7187, \"6\": 7282, \"57\": 310, \"1\": 7866, \"49\": 1494, \"9\": 7229, \"4\": 7610, \"24\": 4562, \"11\": 7758, \"7\": 7260, \"2\": 7720, \"5\": 7414, \"8\": 7363, \"16\": 6301, \"37\": 3031, \"25\": 6460, \"35\": 3159, \"26\": 4459, \"12\": 6753, \"27\": 4086, \"44\": 1734, \"34\": 3202, \"50\": 1487, \"42\": 2294, \"30\": 3464, \"39\": 2504, \"36\": 2900, \"33\": 3418, \"32\": 3504, \"21\": 5181, \"46\": 1393, \"22\": 5465, \"23\": 4836, \"38\": 2693, \"54\": 539, \"53\": 745, \"48\": 1041, \"29\": 4417, \"41\": 2341, \"31\": 3437, \"40\": 2635, \"47\": 1659, \"51\": 1298, \"55\": 532, \"56\": 487, \"58\": 293, \"45\": 1924, \"52\": 1343, \"59\": 216, \"63\": 3, \"60\": 190, \"61\": 111, \"62\": 27, \"64\": 1}',\n",
              " 'index_word': '{\"1\": \" \", \"2\": \"e\", \"3\": \"t\", \"4\": \"o\", \"5\": \"a\", \"6\": \"h\", \"7\": \"s\", \"8\": \"r\", \"9\": \"n\", \"10\": \"i\", \"11\": \"\\\\n\", \"12\": \"l\", \"13\": \"d\", \"14\": \"u\", \"15\": \"m\", \"16\": \"y\", \"17\": \",\", \"18\": \"w\", \"19\": \"f\", \"20\": \"c\", \"21\": \"g\", \"22\": \"I\", \"23\": \"b\", \"24\": \"p\", \"25\": \":\", \"26\": \"A\", \"27\": \"v\", \"28\": \"k\", \"29\": \"T\", \"30\": \"\\'\", \"31\": \"E\", \"32\": \"O\", \"33\": \"N\", \"34\": \"R\", \"35\": \"S\", \"36\": \"L\", \"37\": \"C\", \"38\": \";\", \"39\": \"W\", \"40\": \"U\", \"41\": \"H\", \"42\": \"M\", \"43\": \"B\", \"44\": \"?\", \"45\": \"G\", \"46\": \"!\", \"47\": \"D\", \"48\": \"-\", \"49\": \"F\", \"50\": \"Y\", \"51\": \"P\", \"52\": \"K\", \"53\": \"V\", \"54\": \"j\", \"55\": \"q\", \"56\": \"x\", \"57\": \"z\", \"58\": \"J\", \"59\": \"Q\", \"60\": \"Z\", \"61\": \"X\", \"62\": \"3\", \"63\": \"&\", \"64\": \"$\"}',\n",
              " 'lower': False,\n",
              " 'num_words': None,\n",
              " 'oov_token': None,\n",
              " 'split': ' ',\n",
              " 'word_counts': '{\"F\": 1797, \"i\": 45537, \"r\": 48889, \"s\": 49696, \"t\": 67009, \" \": 169892, \"C\": 3820, \"z\": 356, \"e\": 94611, \"n\": 48529, \":\": 10316, \"\\\\n\": 40000, \"B\": 2761, \"f\": 15770, \"o\": 65798, \"w\": 17585, \"p\": 10808, \"c\": 15623, \"d\": 31358, \"a\": 55507, \"y\": 20448, \"u\": 26584, \"h\": 51310, \",\": 19846, \"m\": 22243, \"k\": 7088, \"A\": 7819, \"l\": 33339, \"S\": 4523, \"Y\": 1718, \"v\": 7793, \"?\": 2462, \"R\": 4869, \"M\": 2840, \"W\": 3530, \"\\'\": 6187, \"L\": 3876, \"I\": 11832, \"N\": 5079, \"g\": 13356, \";\": 3628, \"b\": 11321, \"!\": 2172, \"O\": 5481, \"j\": 628, \"V\": 798, \"-\": 1897, \"T\": 7015, \"H\": 3068, \"E\": 6041, \"U\": 3313, \"D\": 2089, \"P\": 1641, \"q\": 609, \"x\": 529, \"J\": 320, \"G\": 2399, \"K\": 1584, \"Q\": 231, \"&\": 3, \"Z\": 198, \"X\": 112, \"3\": 27, \"$\": 1}',\n",
              " 'word_docs': '{\"u\": 6580, \"d\": 6649, \"w\": 5818, \"c\": 5436, \"B\": 2146, \"k\": 3881, \"m\": 6454, \"t\": 7503, \"f\": 5319, \",\": 6338, \"i\": 7187, \"h\": 7282, \"z\": 310, \" \": 7866, \"F\": 1494, \"n\": 7229, \"o\": 7610, \"p\": 4562, \"\\\\n\": 7758, \"s\": 7260, \"e\": 7720, \"a\": 7414, \"r\": 7363, \"y\": 6301, \"C\": 3031, \":\": 6460, \"S\": 3159, \"A\": 4459, \"l\": 6753, \"v\": 4086, \"?\": 1734, \"R\": 3202, \"Y\": 1487, \"M\": 2294, \"\\'\": 3464, \"W\": 2504, \"L\": 2900, \"N\": 3418, \"O\": 3504, \"g\": 5181, \"!\": 1393, \"I\": 5465, \"b\": 4836, \";\": 2693, \"j\": 539, \"V\": 745, \"-\": 1041, \"T\": 4417, \"H\": 2341, \"E\": 3437, \"U\": 2635, \"D\": 1659, \"P\": 1298, \"q\": 532, \"x\": 487, \"J\": 293, \"G\": 1924, \"K\": 1343, \"Q\": 216, \"&\": 3, \"Z\": 190, \"X\": 111, \"3\": 27, \"$\": 1}',\n",
              " 'word_index': '{\" \": 1, \"e\": 2, \"t\": 3, \"o\": 4, \"a\": 5, \"h\": 6, \"s\": 7, \"r\": 8, \"n\": 9, \"i\": 10, \"\\\\n\": 11, \"l\": 12, \"d\": 13, \"u\": 14, \"m\": 15, \"y\": 16, \",\": 17, \"w\": 18, \"f\": 19, \"c\": 20, \"g\": 21, \"I\": 22, \"b\": 23, \"p\": 24, \":\": 25, \"A\": 26, \"v\": 27, \"k\": 28, \"T\": 29, \"\\'\": 30, \"E\": 31, \"O\": 32, \"N\": 33, \"R\": 34, \"S\": 35, \"L\": 36, \"C\": 37, \";\": 38, \"W\": 39, \"U\": 40, \"H\": 41, \"M\": 42, \"B\": 43, \"?\": 44, \"G\": 45, \"!\": 46, \"D\": 47, \"-\": 48, \"F\": 49, \"Y\": 50, \"P\": 51, \"K\": 52, \"V\": 53, \"j\": 54, \"q\": 55, \"x\": 56, \"z\": 57, \"J\": 58, \"Q\": 59, \"Z\": 60, \"X\": 61, \"3\": 62, \"&\": 63, \"$\": 64}'}"
            ]
          },
          "metadata": {
            "tags": []
          },
          "execution_count": 10
        }
      ]
    },
    {
      "cell_type": "markdown",
      "metadata": {
        "id": "gWObVg6DRfSi"
      },
      "source": [
        "#### Tokenize the text\n",
        "\n",
        "You should now write a function to use the tokenizer to map each string in `text_chunks` to its corresponding encoded sequence. The following function takes a fitted `Tokenizer` object in the first argument (as returned by `create_character_tokenizer`) and a list of strings in the second argument. The function should return a list of lists, where each sublist is a sequence of integer tokens encoding the text sequences according to the mapping stored in the tokenizer.\n",
        "\n",
        "**Hint:** you may need to refer to the [documentation](https://www.tensorflow.org/api_docs/python/tf/keras/preprocessing/text/Tokenizer) for the `Tokenizer`."
      ]
    },
    {
      "cell_type": "code",
      "metadata": {
        "id": "lkKDCvV1RfSj"
      },
      "source": [
        "#### GRADED CELL ####\n",
        "\n",
        "# Complete the following function.\n",
        "# Make sure not to change the function name or arguments.\n",
        "\n",
        "def strings_to_sequences(tokenizer, list_of_strings):\n",
        "    \"\"\"\n",
        "    This function takes a tokenizer object and a list of strings as its arguments.\n",
        "    It should use the tokenizer to map the text chunks to sequences of tokens and\n",
        "    then return this list of encoded sequences.\n",
        "    \"\"\"\n",
        "    seq_chunks = tokenizer.texts_to_sequences(list_of_strings)\n",
        "\n",
        "    return seq_chunks\n",
        "    \n",
        "    "
      ],
      "execution_count": null,
      "outputs": []
    },
    {
      "cell_type": "code",
      "metadata": {
        "id": "hhYb2mSlRfSo"
      },
      "source": [
        "# Encode the text chunks into tokens\n",
        "\n",
        "seq_chunks = strings_to_sequences(tokenizer, text_chunks)"
      ],
      "execution_count": null,
      "outputs": []
    },
    {
      "cell_type": "code",
      "metadata": {
        "id": "v4CTKBuRIc0n"
      },
      "source": [
        ""
      ],
      "execution_count": null,
      "outputs": []
    },
    {
      "cell_type": "code",
      "metadata": {
        "id": "92odm4hAElbO",
        "outputId": "ab260c29-c143-4979-fcd3-9bcffc2e0df7",
        "colab": {
          "base_uri": "https://localhost:8080/",
          "height": 265
        }
      },
      "source": [
        "plt.hist([len(sublist) for sublist in seq_chunks],bins = 100)\n",
        "plt.axvline(np.mean([len(sublist) for sublist in seq_chunks]), linestyle = '--', color = 'k')\n",
        "plt.show()"
      ],
      "execution_count": null,
      "outputs": [
        {
          "output_type": "display_data",
          "data": {
            "image/png": "[encoded data removed]",
            "text/plain": [
              "<Figure size 432x288 with 1 Axes>"
            ]
          },
          "metadata": {
            "tags": [],
            "needs_background": "light"
          }
        }
      ]
    },
    {
      "cell_type": "code",
      "metadata": {
        "id": "sh4DC6K5FvPL",
        "outputId": "2529c101-20b4-49a3-d3ac-752fbfec4d49",
        "colab": {
          "base_uri": "https://localhost:8080/",
          "height": 34
        }
      },
      "source": [
        "len(seq_chunks[1385])"
      ],
      "execution_count": null,
      "outputs": [
        {
          "output_type": "execute_result",
          "data": {
            "text/plain": [
              "1346"
            ]
          },
          "metadata": {
            "tags": []
          },
          "execution_count": 14
        }
      ]
    },
    {
      "cell_type": "markdown",
      "metadata": {
        "id": "iRCN70xkRfSt"
      },
      "source": [
        "#### Pad the encoded sequences and store them in a numpy array"
      ]
    },
    {
      "cell_type": "markdown",
      "metadata": {
        "id": "3ucADRYoRfSu"
      },
      "source": [
        "Since not all of the text chunks are the same length, you will need to pad them in order to train on batches. You should now complete the following function, which takes the list of lists of tokens, and creates a single numpy array with the token sequences in the rows, according to the following specification:\n",
        "\n",
        "* The longest allowed sequence should be 500 tokens. Any sequence that is longer should be shortened by truncating the beginning of the sequence.\n",
        "* Use zeros for padding the sequences. The zero padding should be placed before the sequences as required.\n",
        "\n",
        "The function should then return the resulting numpy array.\n",
        "\n",
        "**Hint:** you may want to refer to the [documentation](https://www.tensorflow.org/api_docs/python/tf/keras/preprocessing/sequence/pad_sequences) for the `pad_sequences` function."
      ]
    },
    {
      "cell_type": "code",
      "metadata": {
        "id": "zLf-9KxWRfSw"
      },
      "source": [
        "#### GRADED CELL ####\n",
        "\n",
        "# Complete the following function.\n",
        "# Make sure not to change the function name or arguments.\n",
        "\n",
        "def make_padded_dataset(sequence_chunks):\n",
        "    \"\"\"\n",
        "    This function takes a list of lists of tokenized sequences, and transforms\n",
        "    them into a 2D numpy array, padding the sequences as necessary according to\n",
        "    the above specification. The function should then return the numpy array.\n",
        "    \"\"\"\n",
        "    padded_sequences = pad_sequences(sequence_chunks,\n",
        "                                     maxlen = 500,\n",
        "                                     padding = 'pre',\n",
        "                                     truncating = 'pre')\n",
        "    \n",
        "    return padded_sequences\n",
        "    "
      ],
      "execution_count": null,
      "outputs": []
    },
    {
      "cell_type": "code",
      "metadata": {
        "id": "IKB26MgJRfS0"
      },
      "source": [
        "# Pad the token sequence chunks and get the numpy array\n",
        "\n",
        "padded_sequences = make_padded_dataset(seq_chunks)"
      ],
      "execution_count": null,
      "outputs": []
    },
    {
      "cell_type": "code",
      "metadata": {
        "id": "FaOS-AYfKY58",
        "outputId": "f6bb769f-5eef-42da-c1bd-afc5c41bae95",
        "colab": {
          "base_uri": "https://localhost:8080/",
          "height": 34
        }
      },
      "source": [
        "print(type(padded_sequences), padded_sequences.shape) # (batch size , max sequence length) numpy array"
      ],
      "execution_count": null,
      "outputs": [
        {
          "output_type": "stream",
          "text": [
            "<class 'numpy.ndarray'> (7886, 500)\n"
          ],
          "name": "stdout"
        }
      ]
    },
    {
      "cell_type": "code",
      "metadata": {
        "id": "WoG-m7IfI8MT",
        "outputId": "25753e7a-32ae-4f6e-a7e4-fd8d6d591885",
        "colab": {
          "base_uri": "https://localhost:8080/",
          "height": 336
        }
      },
      "source": [
        "plt.stem(padded_sequences[1385])"
      ],
      "execution_count": null,
      "outputs": [
        {
          "output_type": "stream",
          "text": [
            "/usr/local/lib/python3.6/dist-packages/ipykernel_launcher.py:1: UserWarning: In Matplotlib 3.3 individual lines on a stem plot will be added as a LineCollection instead of individual lines. This significantly improves the performance of a stem plot. To remove this warning and switch to the new behaviour, set the \"use_line_collection\" keyword argument to True.\n",
            "  \"\"\"Entry point for launching an IPython kernel.\n"
          ],
          "name": "stderr"
        },
        {
          "output_type": "execute_result",
          "data": {
            "text/plain": [
              "<StemContainer object of 3 artists>"
            ]
          },
          "metadata": {
            "tags": []
          },
          "execution_count": 18
        },
        {
          "output_type": "display_data",
          "data": {
            "image/png": "[encoded data removed]",
            "text/plain": [
              "<Figure size 432x288 with 1 Axes>"
            ]
          },
          "metadata": {
            "tags": [],
            "needs_background": "light"
          }
        }
      ]
    },
    {
      "cell_type": "markdown",
      "metadata": {
        "id": "U-4W2iICRfS3"
      },
      "source": [
        "#### Create model inputs and targets\n",
        "\n",
        "Now you are ready to build your RNN model. The model will receive a sequence of characters and predict the next character in the sequence. At training time, the model can be passed an input sequence, with the target sequence is shifted by one.\n",
        "\n",
        "For example, the expression `To be or not to be` appears in Shakespeare's play 'Hamlet'. Given input `To be or not to b`, the correct prediction is `o be or not to be`. Notice that the prediction is the same length as the input!\n",
        "\n",
        "![sequence_prediction_example](data/rnn_example.png)\n",
        "\n",
        "You should now write the following function to create an input and target array from the current `padded_sequences` array. The function has a single argument that is a 2D numpy array of shape `(num_examples, max_seq_len)`. It should fulfil the following specification:\n",
        "\n",
        "* The function should return an input array and an output array, both of size `(num_examples, max_seq_len - 1)`.\n",
        "* The input array should contain the first `max_seq_len - 1` tokens of each sequence. \n",
        "* The output array should contain the last `max_seq_len - 1` tokens of each sequence. \n",
        "\n",
        "The function should then return the tuple `(input_array, output_array)`. Note that it is possible to complete this function using numpy indexing alone!"
      ]
    },
    {
      "cell_type": "code",
      "metadata": {
        "id": "pzLY5mT3RfS5"
      },
      "source": [
        "#### GRADED CELL ####\n",
        "\n",
        "# Complete the following function.\n",
        "# Make sure not to change the function name or arguments.\n",
        "\n",
        "def create_inputs_and_targets(array_of_sequences):\n",
        "    \"\"\"\n",
        "    This function takes a 2D numpy array of token sequences, and returns a tuple of two\n",
        "    elements: the first element is the input array and the second element is the output\n",
        "    array, which are defined according to the above specification.\n",
        "    \"\"\"   \n",
        "    input_array = array_of_sequences[:,:-1]\n",
        "    output_array = array_of_sequences[:,1:]\n",
        "\n",
        "    return (input_array, output_array)\n",
        "    "
      ],
      "execution_count": null,
      "outputs": []
    },
    {
      "cell_type": "code",
      "metadata": {
        "id": "MzHXg9HcRfTB"
      },
      "source": [
        "# Create the input and output arrays\n",
        "\n",
        "input_seq, target_seq = create_inputs_and_targets(padded_sequences)"
      ],
      "execution_count": null,
      "outputs": []
    },
    {
      "cell_type": "code",
      "metadata": {
        "id": "KOXc-PqhLOlK",
        "outputId": "681f6f86-34f0-4c3a-e6ff-b88a81ae44b7",
        "colab": {
          "base_uri": "https://localhost:8080/",
          "height": 34
        }
      },
      "source": [
        "print(np.shape(input_seq), np.shape(target_seq))"
      ],
      "execution_count": null,
      "outputs": [
        {
          "output_type": "stream",
          "text": [
            "(7886, 499) (7886, 499)\n"
          ],
          "name": "stdout"
        }
      ]
    },
    {
      "cell_type": "markdown",
      "metadata": {
        "id": "YFTEK7hnRfTJ"
      },
      "source": [
        "#### Preprocess sequence array for stateful RNN\n",
        "\n",
        "We will build our RNN language model to be stateful, so that the internal state of the RNN will be maintained across batches. For this to be effective, we need to make sure that each element of every batch follows on from the corresponding element of the preceding batch (you may want to look back at the \"Stateful RNNs\" reading notebook earlier in the week).\n",
        "\n",
        "The following code processes the input and output sequence arrays so that they are ready to be split into batches for training a stateful RNN, by re-ordering the sequence examples (the rows) according to a specified batch size. "
      ]
    },
    {
      "cell_type": "code",
      "metadata": {
        "id": "S4gsVamxRfTK"
      },
      "source": [
        "# Fix the batch size for training\n",
        "\n",
        "batch_size = 32"
      ],
      "execution_count": null,
      "outputs": []
    },
    {
      "cell_type": "code",
      "metadata": {
        "id": "cJu9VgWFRfTP"
      },
      "source": [
        "# Prepare input and output arrays for training the stateful RNN\n",
        "\n",
        "num_examples = input_seq.shape[0]\n",
        "\n",
        "num_processed_examples = num_examples - (num_examples % batch_size)\n",
        "\n",
        "input_seq = input_seq[:num_processed_examples]\n",
        "target_seq = target_seq[:num_processed_examples]\n",
        "\n",
        "steps = int(num_processed_examples / 32)  # steps per epoch\n",
        "\n",
        "inx = np.empty((0,), dtype=np.int32)\n",
        "for i in range(steps):\n",
        "    inx = np.concatenate((inx, i + np.arange(0, num_processed_examples, steps)))\n",
        "\n",
        "input_seq_stateful = input_seq[inx]\n",
        "target_seq_stateful = target_seq[inx]"
      ],
      "execution_count": null,
      "outputs": []
    },
    {
      "cell_type": "code",
      "metadata": {
        "id": "xvTdN-HON5tV"
      },
      "source": [
        ""
      ],
      "execution_count": null,
      "outputs": []
    },
    {
      "cell_type": "markdown",
      "metadata": {
        "id": "Rm8gNoNJRfTT"
      },
      "source": [
        "#### Split the data into training and validation sets\n",
        "\n",
        "We will set aside approximately 20% of the data for validation."
      ]
    },
    {
      "cell_type": "code",
      "metadata": {
        "id": "iiLWfyemRfTU"
      },
      "source": [
        "# Create the training and validation splits\n",
        "\n",
        "num_train_examples = int(batch_size * ((0.8 * num_processed_examples) // batch_size))\n",
        "\n",
        "input_train = input_seq_stateful[:num_train_examples]\n",
        "target_train = target_seq_stateful[:num_train_examples]\n",
        "\n",
        "input_valid = input_seq_stateful[num_train_examples:]\n",
        "target_valid = target_seq_stateful[num_train_examples:]"
      ],
      "execution_count": null,
      "outputs": []
    },
    {
      "cell_type": "code",
      "metadata": {
        "id": "NIE5KcG5N4wK"
      },
      "source": [
        ""
      ],
      "execution_count": null,
      "outputs": []
    },
    {
      "cell_type": "markdown",
      "metadata": {
        "id": "FQ_mAEoPRfTX"
      },
      "source": [
        "#### Create training and validation Dataset objects\n",
        "\n",
        "You should now write a function to take the training and validation input and target arrays, and create training and validation `tf.data.Dataset` objects. The function takes an input array and target array in the first two arguments, and the batch size in the third argument. Your function should do the following:\n",
        "\n",
        "* Create a `Dataset` using the `from_tensor_slices` static method, passing in a tuple of the input and output numpy arrays.\n",
        "* Batch the `Dataset` using the `batch_size` argument, setting `drop_remainder` to `True`. \n",
        "\n",
        "The function should then return the `Dataset` object."
      ]
    },
    {
      "cell_type": "code",
      "metadata": {
        "id": "_DJAjEHKRfTY"
      },
      "source": [
        "#### GRADED CELL ####\n",
        "\n",
        "# Complete the following function.\n",
        "# Make sure not to change the function name or arguments.\n",
        "\n",
        "def make_Dataset(input_array, target_array, batch_size):\n",
        "    \"\"\"\n",
        "    This function takes two 2D numpy arrays in the first two arguments, and an integer\n",
        "    batch_size in the third argument. It should create and return a Dataset object \n",
        "    using the two numpy arrays and batch size according to the above specification.\n",
        "    \"\"\"\n",
        "    dataset = tf.data.Dataset.from_tensor_slices((input_array,target_array))\n",
        "    dataset.batch(batch_size, drop_remainder = True)\n",
        "\n",
        "    return dataset\n",
        "    "
      ],
      "execution_count": null,
      "outputs": []
    },
    {
      "cell_type": "code",
      "metadata": {
        "id": "rzqK_qVARfTc"
      },
      "source": [
        "# Create the training and validation Datasets\n",
        "\n",
        "train_data = make_Dataset(input_train, target_train, batch_size)\n",
        "valid_data = make_Dataset(input_valid, target_valid, batch_size)"
      ],
      "execution_count": null,
      "outputs": []
    },
    {
      "cell_type": "code",
      "metadata": {
        "id": "7sN-D1OIQ5Gc",
        "outputId": "5ece7b4e-8ee4-46ad-f26b-35979804c81a",
        "colab": {
          "base_uri": "https://localhost:8080/",
          "height": 51
        }
      },
      "source": [
        "print(train_data.element_spec)\n",
        "print(valid_data.element_spec)"
      ],
      "execution_count": null,
      "outputs": [
        {
          "output_type": "stream",
          "text": [
            "(TensorSpec(shape=(499,), dtype=tf.int32, name=None), TensorSpec(shape=(499,), dtype=tf.int32, name=None))\n",
            "(TensorSpec(shape=(499,), dtype=tf.int32, name=None), TensorSpec(shape=(499,), dtype=tf.int32, name=None))\n"
          ],
          "name": "stdout"
        }
      ]
    },
    {
      "cell_type": "markdown",
      "metadata": {
        "id": "IKfaWcCCRfTf"
      },
      "source": [
        "#### Build the recurrent neural network model"
      ]
    },
    {
      "cell_type": "markdown",
      "metadata": {
        "id": "KcPyteqDRfTh"
      },
      "source": [
        "You are now ready to build your RNN character-level language model. You should write the following function to build the model; the function takes arguments for the batch size and vocabulary size (number of tokens). Using the Sequential API, your function should build your model according to the following specifications:\n",
        "\n",
        "* The first layer should be an Embedding layer with an embedding dimension of 256 and set the vocabulary size to `vocab_size` from the function argument.\n",
        "* The Embedding layer should also mask the zero padding in the input sequences.\n",
        "* The Embedding layer should also set the `batch_input_shape` to `(batch_size, None)` (a fixed batch size is required for stateful RNNs).\n",
        "* The next layer should be a (uni-directional) GRU layer with 1024 units, set to be a stateful RNN layer.\n",
        "* The GRU layer should return the full sequence, instead of just the output state at the final time step.\n",
        "* The final layer should be a Dense layer with `vocab_size` units and no activation function.\n",
        "\n",
        "In total, the network should have 3 layers."
      ]
    },
    {
      "cell_type": "code",
      "metadata": {
        "id": "oauekqOSRfTi"
      },
      "source": [
        "#### GRADED CELL ####\n",
        "\n",
        "# Complete the following function.\n",
        "# Make sure not to change the function name or arguments.\n",
        "\n",
        "def get_model(vocab_size, batch_size):\n",
        "    \"\"\"\n",
        "    This function takes a vocabulary size and batch size, and builds and returns a \n",
        "    Sequential model according to the above specification.\n",
        "    \"\"\"\n",
        "    model = Sequential([\n",
        "                        Embedding(input_dim = vocab_size, \n",
        "                                  output_dim = 256, \n",
        "                                  mask_zero = True,\n",
        "                                  batch_input_shape = (batch_size,None)),\n",
        "                        GRU(units = 1024, stateful = True, return_sequences = True),\n",
        "                        Dense(units = vocab_size, activation = None)              \n",
        "    ])\n",
        "\n",
        "    return model\n",
        "    "
      ],
      "execution_count": null,
      "outputs": []
    },
    {
      "cell_type": "code",
      "metadata": {
        "id": "AmmEfYo-RfTl",
        "outputId": "6e88d422-3071-40ca-fc13-c69ebd1a81d4",
        "colab": {
          "base_uri": "https://localhost:8080/",
          "height": 255
        }
      },
      "source": [
        "# Build the model and print the model summary\n",
        "\n",
        "model = get_model(len(tokenizer.word_index) + 1, batch_size)\n",
        "model.summary()"
      ],
      "execution_count": null,
      "outputs": [
        {
          "output_type": "stream",
          "text": [
            "Model: \"sequential_2\"\n",
            "_________________________________________________________________\n",
            "Layer (type)                 Output Shape              Param #   \n",
            "=================================================================\n",
            "embedding_2 (Embedding)      (32, None, 256)           16640     \n",
            "_________________________________________________________________\n",
            "gru_2 (GRU)                  (32, None, 1024)          3938304   \n",
            "_________________________________________________________________\n",
            "dense_2 (Dense)              (32, None, 65)            66625     \n",
            "=================================================================\n",
            "Total params: 4,021,569\n",
            "Trainable params: 4,021,569\n",
            "Non-trainable params: 0\n",
            "_________________________________________________________________\n"
          ],
          "name": "stdout"
        }
      ]
    },
    {
      "cell_type": "markdown",
      "metadata": {
        "id": "4PJ4cU0YRfTo"
      },
      "source": [
        "#### Compile and train the model\n",
        "\n",
        "You are now ready to compile and train the model. For this model and dataset, the training time is very long. Therefore for this assignment it is not a requirement to train the model. We have pre-trained a model for you (using the code below) and saved the model weights, which can be loaded to get the model predictions. \n",
        "\n",
        "It is recommended to use accelerator hardware (e.g. using Colab) when training this model. It would also be beneficial to increase the size of the model, e.g. by stacking extra recurrent layers."
      ]
    },
    {
      "cell_type": "code",
      "metadata": {
        "id": "62k8AD8eRfTp",
        "outputId": "8052a653-606a-4e12-fd66-b012d4807364",
        "colab": {
          "base_uri": "https://localhost:8080/",
          "height": 85
        }
      },
      "source": [
        "# Choose whether to train a new model or load the pre-trained model\n",
        "\n",
        "skip_training = True\n",
        "tf.config.list_physical_devices()"
      ],
      "execution_count": null,
      "outputs": [
        {
          "output_type": "execute_result",
          "data": {
            "text/plain": [
              "[PhysicalDevice(name='/physical_device:CPU:0', device_type='CPU'),\n",
              " PhysicalDevice(name='/physical_device:XLA_CPU:0', device_type='XLA_CPU'),\n",
              " PhysicalDevice(name='/physical_device:XLA_GPU:0', device_type='XLA_GPU'),\n",
              " PhysicalDevice(name='/physical_device:GPU:0', device_type='GPU')]"
            ]
          },
          "metadata": {
            "tags": []
          },
          "execution_count": 41
        }
      ]
    },
    {
      "cell_type": "code",
      "metadata": {
        "id": "DJhnIUHSRfTt"
      },
      "source": [
        "# Compile and train the model, or load pre-trained weights\n",
        "\n",
        "if not skip_training:\n",
        "    checkpoint_callback=tf.keras.callbacks.ModelCheckpoint(filepath='./models/ckpt',\n",
        "                                                           save_weights_only=True,\n",
        "                                                           save_best_only=True)\n",
        "    model.compile(optimizer='adam', loss=tf.keras.losses.SparseCategoricalCrossentropy(from_logits=True),\n",
        "                  metrics=['sparse_categorical_accuracy'])\n",
        "    \n",
        "    with tf.device('GPU:0'):\n",
        "      history = model.fit(train_data, epochs=15, validation_data=valid_data, \n",
        "                        validation_steps=50, callbacks=[checkpoint_callback])"
      ],
      "execution_count": null,
      "outputs": []
    },
    {
      "cell_type": "code",
      "metadata": {
        "id": "yqjTlQyoRfTx"
      },
      "source": [
        "# Save model history as a json file, or load it if using pre-trained weights\n",
        "\n",
        "if not skip_training:\n",
        "    history_dict = dict()\n",
        "    for k, v in history.history.items():\n",
        "        history_dict[k] = [float(val) for val in history.history[k]]\n",
        "    with open('models/history.json', 'w+') as json_file:\n",
        "        json.dump(history_dict, json_file, sort_keys=True, indent=4)\n",
        "else:\n",
        "    with open('models/history.json', 'r') as json_file:\n",
        "        history_dict = json.load(json_file)"
      ],
      "execution_count": null,
      "outputs": []
    },
    {
      "cell_type": "markdown",
      "metadata": {
        "id": "upDpsmf9RfT2"
      },
      "source": [
        "#### Plot the learning curves"
      ]
    },
    {
      "cell_type": "code",
      "metadata": {
        "id": "gGpPk5bbRfT3"
      },
      "source": [
        "# Run this cell to plot accuracy vs epoch and loss vs epoch\n",
        "\n",
        "plt.figure(figsize=(15,5))\n",
        "plt.subplot(121)\n",
        "plt.plot(history_dict['sparse_categorical_accuracy'])\n",
        "plt.plot(history_dict['val_sparse_categorical_accuracy'])\n",
        "plt.title('Accuracy vs. epochs')\n",
        "plt.ylabel('Accuracy')\n",
        "plt.xlabel('Epoch')\n",
        "plt.xticks(np.arange(len(history_dict['sparse_categorical_accuracy'])))\n",
        "ax = plt.gca()\n",
        "ax.set_xticklabels(1 + np.arange(len(history_dict['sparse_categorical_accuracy'])))\n",
        "plt.legend(['Training', 'Validation'], loc='lower right')\n",
        "\n",
        "plt.subplot(122)\n",
        "plt.plot(history_dict['loss'])\n",
        "plt.plot(history_dict['val_loss'])\n",
        "plt.title('Loss vs. epochs')\n",
        "plt.ylabel('Loss')\n",
        "plt.xlabel('Epoch')\n",
        "plt.xticks(np.arange(len(history_dict['sparse_categorical_accuracy'])))\n",
        "ax = plt.gca()\n",
        "ax.set_xticklabels(1 + np.arange(len(history_dict['sparse_categorical_accuracy'])))\n",
        "plt.legend(['Training', 'Validation'], loc='upper right')\n",
        "plt.show() "
      ],
      "execution_count": null,
      "outputs": []
    },
    {
      "cell_type": "markdown",
      "metadata": {
        "id": "2msBeLSoRfT7"
      },
      "source": [
        "#### Write a text generation algorithm\n",
        "\n",
        "You can now use the model to generate text! In order to generate a single text sequence, the model needs to be rebuilt with a batch size of 1."
      ]
    },
    {
      "cell_type": "code",
      "metadata": {
        "id": "zzQW69qxRfT_"
      },
      "source": [
        "# Re-build the model and load the saved weights\n",
        "\n",
        "model = get_model(len(tokenizer.word_index) + 1, batch_size=1)\n",
        "model.load_weights(tf.train.latest_checkpoint('./models/'))"
      ],
      "execution_count": null,
      "outputs": []
    },
    {
      "cell_type": "markdown",
      "metadata": {
        "id": "TM3LHQAgRfUD"
      },
      "source": [
        "An algorithm to generate text is as follows:\n",
        "\n",
        "1. Specify a seed string (e.g. `'ROMEO:'`) to get the network started, and a define number of characters for the model to generate, `num_generation_steps`.\n",
        "2. Tokenize this sentence to obtain a list containing one list of the integer tokens.\n",
        "3. Reset the initial state of the network. \n",
        "4. Convert the token list into a Tensor (or numpy array) and pass it to your model as a batch of size one.\n",
        "5. Get the model prediction (logits) for the last time step and extract the state of the recurrent layer.\n",
        "6. Use the logits to construct a categorical distribution and sample a token from it.\n",
        "7. Repeat the following for `num_generation_steps - 1` steps:\n",
        "\n",
        "    1. Use the saved state of the recurrent layer and the last sampled token to get new logit predictions\n",
        "    2. Use the logits to construct a new categorical distribution and sample a token from it.\n",
        "    3. Save the updated state of the recurrent layer.    \n",
        "\n",
        "8. Take the final list of tokens and convert to text using the Tokenizer.\n",
        "\n",
        "Note that the internal state of the recurrent layer can be accessed using the `states` property. For the GRU layer, it is a list of one variable:"
      ]
    },
    {
      "cell_type": "code",
      "metadata": {
        "id": "DDbzdt0LRfUE"
      },
      "source": [
        "# Inspect the model's current recurrent state\n",
        "\n",
        "model.layers[1].states"
      ],
      "execution_count": null,
      "outputs": []
    },
    {
      "cell_type": "markdown",
      "metadata": {
        "id": "2KvmtkvrRfUI"
      },
      "source": [
        "We will break the algorithm down into two steps. First, you should now complete the following function that takes a sequence of tokens of any length and returns the model's prediction (the logits) for the last time step. The specification is as follows:\n",
        "\n",
        "* The token sequence will be a python list, containing one list of integer tokens, e.g. `[[1, 2, 3, 4]]`\n",
        "* The function should convert the list into a 2D Tensor or numpy array\n",
        "* If the function argument `initial_state` is `None`, then the function should reset the state of the recurrent layer to zeros.\n",
        "* Otherwise, if the function argument `initial_state` is a 2D Tensor or numpy array, assign the value of the internal state of the GRU layer to this argument.\n",
        "* Get the model's prediction (logits) for the last time step only.\n",
        "\n",
        "The function should then return the logits as a 2D numpy array, where the first dimension is equal to 1 (batch size).\n",
        "\n",
        "**Hint:** the internal state of the recurrent can be reset to zeros using the `reset_states` method."
      ]
    },
    {
      "cell_type": "code",
      "metadata": {
        "id": "3aHg6y44RfUJ"
      },
      "source": [
        "#### GRADED CELL ####\n",
        "\n",
        "# Complete the following function.\n",
        "# Make sure not to change the function name or arguments.\n",
        "\n",
        "def get_logits(model, token_sequence, initial_state=None):\n",
        "    \"\"\"\n",
        "    This function takes a model object, a token sequence and an optional initial\n",
        "    state for the recurrent layer. The function should return the logits prediction\n",
        "    for the final time step as a 2D numpy array.\n",
        "    \"\"\"\n",
        "    \n",
        "    "
      ],
      "execution_count": null,
      "outputs": []
    },
    {
      "cell_type": "code",
      "metadata": {
        "id": "La2CNRzqRfUN"
      },
      "source": [
        "# Test the get_logits function by passing a dummy token sequence\n",
        "\n",
        "dummy_initial_state = tf.random.normal(model.layers[1].states[0].shape)\n",
        "get_logits(model, [[1, 2, 3, 4]], initial_state=dummy_initial_state)"
      ],
      "execution_count": null,
      "outputs": []
    },
    {
      "cell_type": "markdown",
      "metadata": {
        "id": "KcMB8Yv5RfUQ"
      },
      "source": [
        "You should now write a function that takes a logits prediction similar to the above, uses it to create a categorical distribution, and samples a token from this distribution. The following function takes a 2D numpy array `logits` as an argument, and should return a single integer prediction that is sampled from the categorical distribution. \n",
        "\n",
        "**Hint:** you might find the `tf.random.categorical` function useful for this; see the documentation [here](https://www.tensorflow.org/api_docs/python/tf/random/categorical)."
      ]
    },
    {
      "cell_type": "code",
      "metadata": {
        "id": "LObVBMdzRfUS"
      },
      "source": [
        "#### GRADED CELL ####\n",
        "\n",
        "# Complete the following function.\n",
        "# Make sure not to change the function name or arguments.\n",
        "\n",
        "def sample_token(logits):\n",
        "    \"\"\"\n",
        "    This function takes a 2D numpy array as an input, and constructs a \n",
        "    categorical distribution using it. It should then sample from this\n",
        "    distribution and return the sample as a single integer.\n",
        "    \"\"\"\n",
        "    \n",
        "    "
      ],
      "execution_count": null,
      "outputs": []
    },
    {
      "cell_type": "code",
      "metadata": {
        "id": "MrgPsuOYRfUV"
      },
      "source": [
        "# Test the sample_token function by passing dummy logits\n",
        "\n",
        "dummy_initial_state = tf.random.normal(model.layers[1].states[0].shape)\n",
        "dummy_logits = get_logits(model, [[1, 2, 3, 4]], initial_state=dummy_initial_state)\n",
        "sample_token(dummy_logits)"
      ],
      "execution_count": null,
      "outputs": []
    },
    {
      "cell_type": "code",
      "metadata": {
        "id": "Q23e4MNpRfUY"
      },
      "source": [
        "logits_size = dummy_logits.shape[1]\n",
        "dummy_logits = -np.inf*np.ones((1, logits_size))\n",
        "dummy_logits[0, 20] = 0\n",
        "sample_token(dummy_logits)\n",
        "random_inx = np.random.choice(logits_size, 2, replace=False)\n",
        "random_inx1, random_inx2 = random_inx[0], random_inx[1]\n",
        "print(random_inx1, random_inx2)\n",
        "dummy_logits = -np.inf*np.ones((1, logits_size))\n",
        "dummy_logits[0, random_inx1] = 0\n",
        "dummy_logits[0, random_inx2] = 0\n",
        "sampled_token = []\n",
        "for _ in range(100):\n",
        "    sampled_token.append(sample_token(dummy_logits))\n",
        "    \n",
        "l_tokens, l_counts = np.unique(np.array(sampled_token), return_counts=True)\n",
        "len(l_tokens) == 2"
      ],
      "execution_count": null,
      "outputs": []
    },
    {
      "cell_type": "markdown",
      "metadata": {
        "id": "7A0FOxOTRfUc"
      },
      "source": [
        "#### Generate text from the model\n",
        "\n",
        "You are now ready to generate text from the model!"
      ]
    },
    {
      "cell_type": "code",
      "metadata": {
        "id": "KgXNTiaYRfUd"
      },
      "source": [
        "# Create a seed string and number of generation steps\n",
        "\n",
        "init_string = 'ROMEO:'\n",
        "num_generation_steps = 1000"
      ],
      "execution_count": null,
      "outputs": []
    },
    {
      "cell_type": "code",
      "metadata": {
        "id": "6jm4JeyyRfUf"
      },
      "source": [
        "# Use the model to generate a token sequence\n",
        "\n",
        "token_sequence = tokenizer.texts_to_sequences([init_string])\n",
        "initial_state = None\n",
        "input_sequence = token_sequence\n",
        "\n",
        "for _ in range(num_generation_steps):\n",
        "    logits = get_logits(model, input_sequence, initial_state=initial_state)\n",
        "    sampled_token = sample_token(logits)\n",
        "    token_sequence[0].append(sampled_token)\n",
        "    input_sequence = [[sampled_token]]\n",
        "    initial_state = model.layers[1].states[0].numpy()\n",
        "    \n",
        "print(tokenizer.sequences_to_texts(token_sequence)[0][::2])"
      ],
      "execution_count": null,
      "outputs": []
    },
    {
      "cell_type": "markdown",
      "metadata": {
        "id": "O9mUfLUyRfUl"
      },
      "source": [
        "Congratulations for completing this programming assignment! In the next week of the course we will see how to build customised models and layers, and make custom training loops."
      ]
    }
  ]
}